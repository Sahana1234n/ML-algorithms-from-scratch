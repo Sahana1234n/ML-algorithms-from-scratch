{
  "nbformat": 4,
  "nbformat_minor": 0,
  "metadata": {
    "colab": {
      "provenance": []
    },
    "kernelspec": {
      "name": "python3",
      "display_name": "Python 3"
    },
    "language_info": {
      "name": "python"
    }
  },
  "cells": [
    {
      "cell_type": "code",
      "source": [
        "import numpy as np"
      ],
      "metadata": {
        "id": "Oq_tQkW48fTY"
      },
      "execution_count": 1,
      "outputs": []
    },
    {
      "cell_type": "code",
      "execution_count": 2,
      "metadata": {
        "id": "tzoVg3Aq8HMp"
      },
      "outputs": [],
      "source": [
        "\n",
        "class LinearRegression:\n",
        "  def __init__ (self):\n",
        "    self.weights = None\n",
        "\n",
        "\n",
        "  def fit(self , X , y):\n",
        "    X = np.insert(X , 0 , 1 , axis=1)\n",
        "    weights  = np.linalg.inv(X.T @ X )@ X.T @ y\n",
        "    self.bias = weights[0]\n",
        "    self.weights = weights[1:]\n",
        "\n",
        "  def predict(self , X ):\n",
        "    return (X@self.weights) + self.bias"
      ]
    },
    {
      "cell_type": "code",
      "source": [
        "X = np.array([[2 , 5.6] ,[4 , 3.4] , [6, 4.7] ,[8 ,9.3] , [10 ,5.6]])\n",
        "y = np.array([1 , 2 , 3 , 4 , 5])"
      ],
      "metadata": {
        "id": "NLhPeK6U-Yoh"
      },
      "execution_count": 10,
      "outputs": []
    },
    {
      "cell_type": "code",
      "source": [
        "lr = LinearRegression()\n",
        "lr.fit(X , y)\n",
        "lr.predict(X)"
      ],
      "metadata": {
        "colab": {
          "base_uri": "https://localhost:8080/"
        },
        "id": "APQ92exn-lls",
        "outputId": "61f44bea-0881-4549-c86b-172598bbd54f"
      },
      "execution_count": 11,
      "outputs": [
        {
          "output_type": "execute_result",
          "data": {
            "text/plain": [
              "array([1., 2., 3., 4., 5.])"
            ]
          },
          "metadata": {},
          "execution_count": 11
        }
      ]
    },
    {
      "cell_type": "code",
      "source": [],
      "metadata": {
        "id": "n2Ovdj86Bua_"
      },
      "execution_count": null,
      "outputs": []
    }
  ]
}
