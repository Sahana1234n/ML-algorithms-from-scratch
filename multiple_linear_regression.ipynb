{
 "cells": [
  {
   "cell_type": "code",
   "execution_count": 1,
   "id": "762cdbae",
   "metadata": {},
   "outputs": [],
   "source": [
    "import numpy as np\n",
    "\n",
    "class MLR:\n",
    "\n",
    "    def __init__(self):\n",
    "        self.coef_ = None\n",
    "        self.intercept_ = None\n",
    "\n",
    "    def fit(self , X_train , y_train):\n",
    "        X_train = np.insert(X_train , 0 , 1 , axis=1)\n",
    "        self.betas = np.linalg.inv(X_train.T@X_train)@X_train.T@y_train\n",
    "        self.intercept_ = self.betas[0]\n",
    "        self.coef_ = self.betas[1:]\n",
    "\n",
    "    def predict(self , X_test):\n",
    "        return (X_test@self.coef_)+self.intercept_ "
   ]
  }
 ],
 "metadata": {
  "kernelspec": {
   "display_name": "base",
   "language": "python",
   "name": "python3"
  },
  "language_info": {
   "codemirror_mode": {
    "name": "ipython",
    "version": 3
   },
   "file_extension": ".py",
   "mimetype": "text/x-python",
   "name": "python",
   "nbconvert_exporter": "python",
   "pygments_lexer": "ipython3",
   "version": "3.12.7"
  }
 },
 "nbformat": 4,
 "nbformat_minor": 5
}
